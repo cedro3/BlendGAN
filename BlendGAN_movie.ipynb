{
  "nbformat": 4,
  "nbformat_minor": 0,
  "metadata": {
    "accelerator": "GPU",
    "colab": {
      "name": "BlendGAN_movie",
      "provenance": [],
      "collapsed_sections": [],
      "machine_shape": "hm",
      "mount_file_id": "1CvxegysQ1HQK2TM4HNLyXhqx1Q6IY6uT",
      "authorship_tag": "ABX9TyN4zA1RwBrJtIZSnp6RIqo0",
      "include_colab_link": true
    },
    "kernelspec": {
      "display_name": "Python 3",
      "name": "python3"
    },
    "language_info": {
      "name": "python"
    }
  },
  "cells": [
    {
      "cell_type": "markdown",
      "metadata": {
        "id": "view-in-github",
        "colab_type": "text"
      },
      "source": [
        "<a href=\"https://colab.research.google.com/github/cedro3/BlendGAN/blob/main/BlendGAN_movie.ipynb\" target=\"_parent\"><img src=\"https://colab.research.google.com/assets/colab-badge.svg\" alt=\"Open In Colab\"/></a>"
      ]
    },
    {
      "cell_type": "markdown",
      "metadata": {
        "id": "ih7Ms1eHPOhp"
      },
      "source": [
        "### セットアップ"
      ]
    },
    {
      "cell_type": "code",
      "metadata": {
        "id": "mfF-ivbPtzkw"
      },
      "source": [
        "#@title セットアップ\n",
        "\n",
        "# githubからコードを取得\n",
        "! git clone https://github.com/cedro3/BlendGAN.git\n",
        "%cd BlendGAN\n",
        "\n",
        "# ninjaインストール\n",
        "!wget https://github.com/ninja-build/ninja/releases/download/v1.8.2/ninja-linux.zip\n",
        "!sudo unzip ninja-linux.zip -d /usr/local/bin/\n",
        "!sudo update-alternatives --install /usr/bin/ninja ninja /usr/local/bin/ninja 1 --force\n",
        "\n",
        "# 学習済みパラメータのダウンロード\n",
        "import gdown\n",
        "gdown.download('https://drive.google.com/uc?id=1D27HPNOSx9kWIhc13VevRy0pUv_xYiJb', './pretrained_models/blendgan.pt', quiet=False)\n",
        "gdown.download('https://drive.google.com/uc?id=1pWWSm_c75ieMExJPWJuYA1wby-hm4f1J', './pretrained_models/psp_encoder.pt', quiet=False)\n",
        "gdown.download('https://drive.google.com/uc?id=1qshfqj8SdmgQv_kfLpiohbI3QPQF-OE5', './pretrained_models/style_encoder.pt', quiet=False)\n",
        "\n",
        "# ランドマークデータのダウンロード\n",
        "! wget http://dlib.net/files/shape_predictor_68_face_landmarks.dat.bz2\n",
        "! bzip2 -dk shape_predictor_68_face_landmarks.dat.bz2\n",
        "\n",
        "# 画像の表示関数\n",
        "import matplotlib.pyplot as plt\n",
        "from PIL import Image\n",
        "import os\n",
        "import numpy as np\n",
        "\n",
        "def display_pic(folder):\n",
        "    fig = plt.figure(figsize=(30, 40))\n",
        "    files = os.listdir(folder)\n",
        "    files.sort()\n",
        "    for i, file in enumerate(files):\n",
        "        img = Image.open(folder+'/'+file)    \n",
        "        images = np.asarray(img)\n",
        "        ax = fig.add_subplot(10, 10, i+1, xticks=[], yticks=[])\n",
        "        image_plt = np.array(images)\n",
        "        ax.imshow(image_plt)\n",
        "        ax.set_xlabel(folder+'/'+file, fontsize=15)               \n",
        "    plt.show()\n",
        "    plt.close()\n"
      ],
      "execution_count": null,
      "outputs": []
    },
    {
      "cell_type": "markdown",
      "metadata": {
        "id": "NV7PFNpcGWnx"
      },
      "source": [
        "### コード本体\n",
        "**スタイルにする画像（jpg）をpicフォルダーに保存**\\\n",
        "**動画をBlendGANディレクトリに保存**"
      ]
    },
    {
      "cell_type": "code",
      "metadata": {
        "id": "6rG3C4gEyOPl"
      },
      "source": [
        "#@title スタイル顔画像の切り出し\n",
        "#@markdown picフォルダーの画像から顔画像を切り出しalign_styleフォルダーに保存\n",
        "\n",
        "import os\n",
        "import shutil\n",
        "from tqdm import tqdm\n",
        "\n",
        "if os.path.isdir('align_style'):\n",
        "     shutil.rmtree('align_style')\n",
        "os.makedirs('align_style', exist_ok=True)\n",
        "\n",
        "def run_alignment(image_path):\n",
        "  import dlib\n",
        "  from alignment import align_face\n",
        "  predictor = dlib.shape_predictor(\"shape_predictor_68_face_landmarks.dat\")\n",
        "  aligned_image = align_face(filepath=image_path, predictor=predictor) \n",
        "  return aligned_image \n",
        "\n",
        "path = './pic'\n",
        "files = sorted(os.listdir(path))\n",
        "for i, file in enumerate(tqdm(files)):\n",
        "  if file=='.ipynb_checkpoints':\n",
        "     continue\n",
        "  input_image = run_alignment(path+'/'+file)\n",
        "  input_image.resize((1024,1024))\n",
        "  input_image.save('./align_style/'+file)\n",
        "\n",
        "display_pic('align_style')"
      ],
      "execution_count": null,
      "outputs": []
    },
    {
      "cell_type": "code",
      "metadata": {
        "id": "rbmLxNnxyOWx"
      },
      "source": [
        "#@title スタイル顔画像指定\n",
        "#@markdown　align_styleフォルダーの中から画像を指定し test_imgs/style_imgsへコピー\n",
        "input = \"013.jpg\"#@param {type:\"string\"}\n",
        "file = './align_style/'+input\n",
        "\n",
        "# original_imagesフォルダーリセット\n",
        "if os.path.isdir('test_imgs/style_imgs'):\n",
        "    shutil.rmtree('test_imgs/style_imgs')\n",
        "os.makedirs('test_imgs/style_imgs', exist_ok=True)\n",
        "\n",
        "# original_imagesフォルダーへコピー\n",
        "import shutil\n",
        "shutil.copy(file, 'test_imgs/style_imgs/'+input) "
      ],
      "execution_count": null,
      "outputs": []
    },
    {
      "cell_type": "code",
      "metadata": {
        "id": "cbOVACkjPI4I"
      },
      "source": [
        "#@title ビデオを静止画に変換\n",
        "#@markdown ルートのビデオを静止画にバラしimagesフォルダーに保存\n",
        "import os\n",
        "import shutil\n",
        "import cv2\n",
        "\n",
        "# imagesフォルダーリセット\n",
        "if os.path.isdir('images'):\n",
        "    shutil.rmtree('images')\n",
        "os.makedirs('images', exist_ok=True)\n",
        " \n",
        "def video_2_images(video_file= './2.mp4',   # ビデオ指定\n",
        "                   image_dir='./images/', \n",
        "                   image_file='%s.jpg'):  \n",
        " \n",
        "    # Initial setting\n",
        "    i = 0\n",
        "    interval = 1\n",
        "    length = 1000  # 最大フレーム数\n",
        "    \n",
        "    cap = cv2.VideoCapture(video_file)\n",
        "    fps = cap.get(cv2.CAP_PROP_FPS)  # fps取得\n",
        "    while(cap.isOpened()):\n",
        "        flag, frame = cap.read()  \n",
        "        if flag == False:  \n",
        "                break\n",
        "        if i == length*interval:\n",
        "                break\n",
        "        if i % interval == 0:\n",
        "           #frame = cv2.resize(frame, (256, 256))  # 256×256にリサイズ  \n",
        "           cv2.imwrite(image_dir+image_file % str(int(i/interval)).zfill(6), frame)\n",
        "        i += 1 \n",
        "    cap.release()\n",
        "    return fps, i, interval\n",
        " \n",
        "fps, i, interval = video_2_images()\n",
        "print('fps = ', fps)\n",
        "print('flames = ', i)\n",
        "print('interval = ', interval)"
      ],
      "execution_count": null,
      "outputs": []
    },
    {
      "cell_type": "markdown",
      "metadata": {
        "id": "kxZm67B03EAH"
      },
      "source": [
        "**自分の画像を使う場合はpicフォルダーに画像をアップロードしてから下記を実行して下さい**"
      ]
    },
    {
      "cell_type": "code",
      "metadata": {
        "id": "DnGnFGmkvoMO"
      },
      "source": [
        "#@title 顔画像の切り出し\n",
        "#@markdown imagesフォルダーの画像から顔画像を切り出しalign_imagesに保存\n",
        "import os\n",
        "import shutil\n",
        "from tqdm import tqdm\n",
        "\n",
        "if os.path.isdir('align_images'):\n",
        "     shutil.rmtree('align_images')\n",
        "os.makedirs('align_images', exist_ok=True)\n",
        "\n",
        "def run_alignment(image_path):\n",
        "  import dlib\n",
        "  from alignment import align_face\n",
        "  predictor = dlib.shape_predictor(\"shape_predictor_68_face_landmarks.dat\")\n",
        "  aligned_image = align_face(filepath=image_path, predictor=predictor) \n",
        "  return aligned_image \n",
        "\n",
        "path = './images'\n",
        "files = sorted(os.listdir(path))\n",
        "for i, file in enumerate(tqdm(files)):\n",
        "  if file=='.ipynb_checkpoints':\n",
        "     continue\n",
        "  input_image = run_alignment(path+'/'+file)\n",
        "  input_image.resize((1024,1024))\n",
        "  input_image.save('./align_images/'+file)\n"
      ],
      "execution_count": null,
      "outputs": []
    },
    {
      "cell_type": "code",
      "metadata": {
        "id": "dIRtUDA_nS-n"
      },
      "source": [
        "#@title 動画のスタイルブレンド\n",
        "#@markdown align_imagesフォルダーの連番画像にalign_style画像のスタイルをミックスしresults/style_tranferフォルダーに連番で保存\n",
        "# style_transferフォルダーリセット\n",
        "if os.path.isdir('results/style_transfer'):\n",
        "    shutil.rmtree('results/style_transfer')\n",
        "\n",
        "! python style_transfer_folder.py --size 1024 --ckpt ./pretrained_models/blendgan.pt --psp_encoder_ckpt ./pretrained_models/psp_encoder.pt --style_img_path ./test_imgs/style_imgs/ --input_img_path align_images --outdir results/style_transfer/"
      ],
      "execution_count": null,
      "outputs": []
    },
    {
      "cell_type": "code",
      "metadata": {
        "id": "IhOg4AuNufY-"
      },
      "source": [
        "# 画像を動画に変換\n",
        "#@markdown results/style_tranferフォルダーの連番画像から動画を作成\n",
        "\n",
        "# リセットファイル\n",
        "if os.path.exists('./output.mp4'):\n",
        "   os.remove('./output.mp4')\n",
        "\n",
        "!ffmpeg -r $fps -i results/style_transfer/%6d_v_$input -vcodec libx264 -pix_fmt yuv420p output.mp4"
      ],
      "execution_count": null,
      "outputs": []
    },
    {
      "cell_type": "code",
      "metadata": {
        "id": "FatjVtO5DBr0"
      },
      "source": [
        "#@title 動画の再生\n",
        "from IPython.display import HTML\n",
        "from base64 import b64encode\n",
        "\n",
        "mp4 = open('./output.mp4', 'rb').read()\n",
        "data_url = 'data:video/mp4;base64,' + b64encode(mp4).decode()\n",
        "HTML(f\"\"\"\n",
        "<video width=\"100%\" height=\"100%\" controls>\n",
        "      <source src=\"{data_url}\" type=\"video/mp4\">\n",
        "</video>\"\"\")"
      ],
      "execution_count": null,
      "outputs": []
    }
  ]
}