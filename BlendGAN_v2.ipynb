{
  "nbformat": 4,
  "nbformat_minor": 0,
  "metadata": {
    "accelerator": "GPU",
    "colab": {
      "name": "BlendGAN_v2",
      "provenance": [],
      "collapsed_sections": [],
      "machine_shape": "hm",
      "mount_file_id": "1n6oE9T7cBZlW0o1PzEVx7wbZbcnvuPYw",
      "authorship_tag": "ABX9TyNcxhRohguinl5kcYZS2zB0",
      "include_colab_link": true
    },
    "kernelspec": {
      "display_name": "Python 3",
      "name": "python3"
    },
    "language_info": {
      "name": "python"
    }
  },
  "cells": [
    {
      "cell_type": "markdown",
      "metadata": {
        "id": "view-in-github",
        "colab_type": "text"
      },
      "source": [
        "<a href=\"https://colab.research.google.com/github/cedro3/BlendGAN/blob/main/BlendGAN_v2.ipynb\" target=\"_parent\"><img src=\"https://colab.research.google.com/assets/colab-badge.svg\" alt=\"Open In Colab\"/></a>"
      ]
    },
    {
      "cell_type": "markdown",
      "metadata": {
        "id": "ih7Ms1eHPOhp"
      },
      "source": [
        "### セットアップ"
      ]
    },
    {
      "cell_type": "code",
      "metadata": {
        "id": "mfF-ivbPtzkw"
      },
      "source": [
        "#@title セットアップ\n",
        "\n",
        "# githubからコードを取得\n",
        "! git clone https://github.com/cedro3/BlendGAN.git\n",
        "%cd BlendGAN\n",
        "\n",
        "# ninjaインストール\n",
        "!wget https://github.com/ninja-build/ninja/releases/download/v1.8.2/ninja-linux.zip\n",
        "!sudo unzip ninja-linux.zip -d /usr/local/bin/\n",
        "!sudo update-alternatives --install /usr/bin/ninja ninja /usr/local/bin/ninja 1 --force\n",
        "\n",
        "# 学習済みパラメータのダウンロード\n",
        "import gdown\n",
        "gdown.download('https://drive.google.com/uc?id=1D27HPNOSx9kWIhc13VevRy0pUv_xYiJb', './pretrained_models/blendgan.pt', quiet=False)\n",
        "gdown.download('https://drive.google.com/uc?id=1pWWSm_c75ieMExJPWJuYA1wby-hm4f1J', './pretrained_models/psp_encoder.pt', quiet=False)\n",
        "gdown.download('https://drive.google.com/uc?id=1qshfqj8SdmgQv_kfLpiohbI3QPQF-OE5', './pretrained_models/style_encoder.pt', quiet=False)\n",
        "\n",
        "# ランドマークデータのダウンロード\n",
        "! wget http://dlib.net/files/shape_predictor_68_face_landmarks.dat.bz2\n",
        "! bzip2 -dk shape_predictor_68_face_landmarks.dat.bz2\n",
        "\n",
        "# 画像の表示関数\n",
        "import matplotlib.pyplot as plt\n",
        "from PIL import Image\n",
        "import os\n",
        "import numpy as np\n",
        "\n",
        "def display_pic(folder):\n",
        "    fig = plt.figure(figsize=(30, 40))\n",
        "    files = os.listdir(folder)\n",
        "    files.sort()\n",
        "    for i, file in enumerate(files):\n",
        "        img = Image.open(folder+'/'+file)    \n",
        "        images = np.asarray(img)\n",
        "        ax = fig.add_subplot(10, 10, i+1, xticks=[], yticks=[])\n",
        "        image_plt = np.array(images)\n",
        "        ax.imshow(image_plt)\n",
        "        ax.set_xlabel(folder+'/'+file, fontsize=15)               \n",
        "    plt.show()\n",
        "    plt.close()\n"
      ],
      "execution_count": null,
      "outputs": []
    },
    {
      "cell_type": "markdown",
      "metadata": {
        "id": "iNcYzJQeGKd3"
      },
      "source": [
        "### デモ"
      ]
    },
    {
      "cell_type": "code",
      "metadata": {
        "id": "5KJW25bkjmUf"
      },
      "source": [
        "#@title Style tranfer デモ\n",
        "\n",
        "# style_transferフォルダーリセット\n",
        "import os\n",
        "import shutil\n",
        "if os.path.isdir('results/style_transfer'):\n",
        "    shutil.rmtree('results/style_transfer')\n",
        "\n",
        "# style_transfer実行\n",
        "! python style_transfer_folder.py --size 1024 --ckpt ./pretrained_models/blendgan.pt --psp_encoder_ckpt ./pretrained_models/psp_encoder.pt --style_img_path ./test_imgs/style_imgs/ --input_img_path ./test_imgs/face_imgs/ --outdir results/style_transfer/\n",
        "\n",
        "# imagesフォルダーリセット\n",
        "if os.path.isdir('results/images'):\n",
        "    shutil.rmtree('results/images')\n",
        "os.makedirs('results/images', exist_ok=True)\n",
        "\n",
        "# output.mp4をリセット\n",
        "if os.path.exists('./output.mp4'):\n",
        "   os.remove('./output.mp4')\n",
        "\n",
        "# 画像の連結\n",
        "import glob\n",
        "img1 = glob.glob('results/style_transfer/01_*.jpg')\n",
        "img2 = glob.glob('results/style_transfer/02_*.jpg')\n",
        "img3 = glob.glob('results/style_transfer/03_*.jpg')\n",
        "img1.sort()\n",
        "img2.sort()\n",
        "img3.sort()\n",
        "\n",
        "import cv2\n",
        "for i in range(len(img1)):\n",
        "    im1 = cv2.imread(img1[i])\n",
        "    im2 = cv2.imread(img2[i])\n",
        "    im3 = cv2.imread(img3[i])\n",
        "    tmp = cv2.vconcat([im1, im2])\n",
        "    out = cv2.vconcat([tmp,im3])\n",
        "    all = cv2.resize(out, dsize=(1024, 1024))\n",
        "    cv2.imwrite('results/images/'+str(i).zfill(3)+'.jpg', all)\n",
        "\n",
        "# 画像を動画に変換\n",
        "!ffmpeg -r 0.6 -i results/images/%03d.jpg -vcodec libx264 -pix_fmt yuv420p output.mp4"
      ],
      "execution_count": null,
      "outputs": []
    },
    {
      "cell_type": "code",
      "metadata": {
        "id": "fjthcWK3oXbb"
      },
      "source": [
        "#@title 動画の再生\n",
        "from IPython.display import HTML\n",
        "from base64 import b64encode\n",
        "\n",
        "mp4 = open('./output.mp4', 'rb').read()\n",
        "data_url = 'data:video/mp4;base64,' + b64encode(mp4).decode()\n",
        "HTML(f\"\"\"\n",
        "<video width=\"70%\" height=\"70%\" controls>\n",
        "      <source src=\"{data_url}\" type=\"video/mp4\">\n",
        "</video>\"\"\")"
      ],
      "execution_count": null,
      "outputs": []
    },
    {
      "cell_type": "markdown",
      "metadata": {
        "id": "NV7PFNpcGWnx"
      },
      "source": [
        "### オリジナル画像でやってみる"
      ]
    },
    {
      "cell_type": "code",
      "metadata": {
        "id": "qTrFuZrC2vU0"
      },
      "source": [
        "#@title picフォルダーリセット\n",
        "import os\n",
        "import shutil\n",
        "if os.path.isdir('pic'):\n",
        "     shutil.rmtree('pic')\n",
        "os.makedirs('pic', exist_ok=True)"
      ],
      "execution_count": null,
      "outputs": []
    },
    {
      "cell_type": "markdown",
      "metadata": {
        "id": "kxZm67B03EAH"
      },
      "source": [
        "**必ずpicフォルダーに画像をアップロードしてから下記を実行**"
      ]
    },
    {
      "cell_type": "code",
      "metadata": {
        "id": "DnGnFGmkvoMO"
      },
      "source": [
        "#@title 顔画像の切り出し\n",
        "import os\n",
        "import shutil\n",
        "from tqdm import tqdm\n",
        "\n",
        "if os.path.isdir('align'):\n",
        "     shutil.rmtree('align')\n",
        "os.makedirs('align', exist_ok=True)\n",
        "\n",
        "def run_alignment(image_path):\n",
        "  import dlib\n",
        "  from alignment import align_face\n",
        "  predictor = dlib.shape_predictor(\"shape_predictor_68_face_landmarks.dat\")\n",
        "  aligned_image = align_face(filepath=image_path, predictor=predictor) \n",
        "  return aligned_image \n",
        "\n",
        "path = './pic'\n",
        "files = sorted(os.listdir(path))\n",
        "for i, file in enumerate(tqdm(files)):\n",
        "  if file=='.ipynb_checkpoints':\n",
        "     continue\n",
        "  input_image = run_alignment(path+'/'+file)\n",
        "  input_image.resize((1024,1024))\n",
        "  input_image.save('./align/'+file)\n",
        "\n",
        "display_pic('align')"
      ],
      "execution_count": null,
      "outputs": []
    },
    {
      "cell_type": "code",
      "metadata": {
        "id": "HSU4iz94z9i1"
      },
      "source": [
        "#@title 画像ファイル指定\n",
        "input = \"\"#@param {type:\"string\"}\n",
        "file = './align/'+input\n",
        "\n",
        "# original_imagesフォルダーリセット\n",
        "if os.path.isdir('test_imgs/original_imgs'):\n",
        "    shutil.rmtree('test_imgs/original_imgs')\n",
        "os.makedirs('test_imgs/original_imgs', exist_ok=True)\n",
        "\n",
        "# original_imagesフォルダーへコピー\n",
        "import shutil\n",
        "shutil.copy(file, 'test_imgs/original_imgs/'+input) \n"
      ],
      "execution_count": null,
      "outputs": []
    },
    {
      "cell_type": "code",
      "metadata": {
        "id": "SKPDDEXjBYz1"
      },
      "source": [
        "#@title Style transfer を実行し動画を作成\n",
        "\n",
        "# style_transferフォルダーリセット\n",
        "if os.path.isdir('results/style_transfer'):\n",
        "    shutil.rmtree('results/style_transfer')\n",
        "\n",
        "! python style_transfer_folder.py --size 1024 --ckpt ./pretrained_models/blendgan.pt --psp_encoder_ckpt ./pretrained_models/psp_encoder.pt --style_img_path ./test_imgs/style_imgs/ --input_img_path ./test_imgs/original_imgs/ --outdir results/style_transfer/\n",
        "\n",
        "# imagesフォルダーリセット\n",
        "import os\n",
        "import shutil\n",
        "if os.path.isdir('results/images'):\n",
        "    shutil.rmtree('results/images')\n",
        "os.makedirs('results/images', exist_ok=True)\n",
        "\n",
        "# output.mp4リセット\n",
        "if os.path.exists('./output.mp4'):\n",
        "   os.remove('./output.mp4')\n",
        "\n",
        "# 画像のリサイズ\n",
        "import cv2\n",
        "import glob\n",
        "files = glob.glob('results/style_transfer/*.jpg')\n",
        "files.sort()\n",
        "for i, file in enumerate(files):\n",
        "    img = cv2.imread(file)\n",
        "    img_resize = cv2.resize(img, dsize=(1536, 512))\n",
        "    cv2.imwrite('results/images/'+str(i).zfill(3)+'.jpg', img_resize)\n",
        "\n",
        "# 画像を動画に変換\n",
        "!ffmpeg -r 0.6 -i results/images/%3d.jpg -vcodec libx264 -pix_fmt yuv420p output.mp4"
      ],
      "execution_count": null,
      "outputs": []
    },
    {
      "cell_type": "code",
      "metadata": {
        "id": "FatjVtO5DBr0"
      },
      "source": [
        "#@title 動画の再生\n",
        "from IPython.display import HTML\n",
        "from base64 import b64encode\n",
        "\n",
        "mp4 = open('./output.mp4', 'rb').read()\n",
        "data_url = 'data:video/mp4;base64,' + b64encode(mp4).decode()\n",
        "HTML(f\"\"\"\n",
        "<video width=\"100%\" height=\"100%\" controls>\n",
        "      <source src=\"{data_url}\" type=\"video/mp4\">\n",
        "</video>\"\"\")"
      ],
      "execution_count": null,
      "outputs": []
    }
  ]
}